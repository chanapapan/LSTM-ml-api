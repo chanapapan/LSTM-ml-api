{
 "cells": [
  {
   "cell_type": "markdown",
   "id": "bbf849b9",
   "metadata": {},
   "source": [
    "# Load and Inference the model"
   ]
  },
  {
   "cell_type": "code",
   "execution_count": 1,
   "id": "1813bca1-4193-470c-956e-da58d845a637",
   "metadata": {},
   "outputs": [],
   "source": [
    "from model_and_utils import MySentimentModel, INT_TO_LABEL\n",
    "\n",
    "import pickle\n",
    "import yaml\n",
    "import torch"
   ]
  },
  {
   "cell_type": "code",
   "execution_count": 2,
   "id": "2a0d1ccb-bbe0-429e-a07b-7e83804168ec",
   "metadata": {},
   "outputs": [
    {
     "name": "stderr",
     "output_type": "stream",
     "text": [
      "<ipython-input-2-8fa90944048f>:2: YAMLLoadWarning: calling yaml.load() without Loader=... is deprecated, as the default Loader is unsafe. Please read https://msg.pyyaml.org/load for full details.\n",
      "  config = yaml.load(ymlfile)\n"
     ]
    }
   ],
   "source": [
    "with open(\"config.yml\", \"r\") as ymlfile:\n",
    "    config = yaml.load(ymlfile)\n",
    "    \n",
    "with open(config['vocab_path'], 'rb') as f:\n",
    "    vocab = pickle.load(f)"
   ]
  },
  {
   "cell_type": "code",
   "execution_count": 3,
   "id": "04b54b14-c5c0-4ff7-9a41-a09028ac4855",
   "metadata": {},
   "outputs": [
    {
     "data": {
      "text/plain": [
       "MySentimentModel(\n",
       "  (vocab): Vocab()\n",
       "  (embedding): Embedding(27165, 300, padding_idx=1)\n",
       "  (lstm): LSTM(300, 256, num_layers=2, batch_first=True, dropout=0.5, bidirectional=True)\n",
       "  (fc): Linear(in_features=512, out_features=4, bias=True)\n",
       ")"
      ]
     },
     "execution_count": 3,
     "metadata": {},
     "output_type": "execute_result"
    }
   ],
   "source": [
    "model = MySentimentModel(config, vocab, INT_TO_LABEL)\n",
    "model.load_state_dict(torch.load(\"best_LSTM_weights.pth\"))\n",
    "model.eval()"
   ]
  },
  {
   "cell_type": "code",
   "execution_count": 4,
   "id": "f24f10de-74ee-4917-9a7f-94b7d764c689",
   "metadata": {},
   "outputs": [
    {
     "name": "stdout",
     "output_type": "stream",
     "text": [
      "neg\n"
     ]
    }
   ],
   "source": [
    "res = model.predict(\"มือถือเครื่องนี้ทํางานไม่ดีเลย\")\n",
    "print(res)"
   ]
  },
  {
   "cell_type": "code",
   "execution_count": 5,
   "id": "12430724-d596-4d6b-a923-f81d43e1da4e",
   "metadata": {},
   "outputs": [
    {
     "name": "stdout",
     "output_type": "stream",
     "text": [
      "pos\n"
     ]
    }
   ],
   "source": [
    "res = model.predict(\"ชอบมือถือเครื่องนี้มาก\")\n",
    "print(res)"
   ]
  }
 ],
 "metadata": {
  "kernelspec": {
   "display_name": "Python 3.9.13 64-bit",
   "language": "python",
   "name": "python3"
  },
  "language_info": {
   "codemirror_mode": {
    "name": "ipython",
    "version": 3
   },
   "file_extension": ".py",
   "mimetype": "text/x-python",
   "name": "python",
   "nbconvert_exporter": "python",
   "pygments_lexer": "ipython3",
   "version": "3.9.13"
  },
  "vscode": {
   "interpreter": {
    "hash": "5289b8c979b58076e9bd7e65db45d7d4db5bfe1f67ec508cedcc00d9a8d063a5"
   }
  }
 },
 "nbformat": 4,
 "nbformat_minor": 5
}
